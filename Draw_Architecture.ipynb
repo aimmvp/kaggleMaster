{
 "cells": [
  {
   "cell_type": "code",
   "execution_count": 1,
   "metadata": {},
   "outputs": [
    {
     "name": "stderr",
     "output_type": "stream",
     "text": [
      "Using TensorFlow backend.\n"
     ]
    }
   ],
   "source": [
    "from __future__ import print_function\n",
    "import keras\n",
    "from keras.datasets import mnist\n",
    "from keras.models import Sequential\n",
    "from keras.layers import Dense, Dropout, Flatten\n",
    "from keras.layers import Conv2D, MaxPooling2D\n",
    "from keras import backend as K"
   ]
  },
  {
   "cell_type": "code",
   "execution_count": 2,
   "metadata": {
    "collapsed": true
   },
   "outputs": [],
   "source": [
    "batch_size = 128\n",
    "num_classes = 10\n",
    "epochs = 1\n",
    "\n",
    "img_rows, img_cols = 28, 28"
   ]
  },
  {
   "cell_type": "code",
   "execution_count": 3,
   "metadata": {
    "collapsed": true
   },
   "outputs": [],
   "source": [
    "(x_train, y_train), (x_test, y_test) = mnist.load_data()"
   ]
  },
  {
   "cell_type": "code",
   "execution_count": 4,
   "metadata": {
    "collapsed": true
   },
   "outputs": [],
   "source": [
    "x_train = x_train.reshape(x_train.shape[0], img_rows, img_cols, 1)\n",
    "x_test = x_test.reshape(x_test.shape[0], img_rows, img_cols, 1)\n",
    "input_shape = (img_rows, img_cols, 1)"
   ]
  },
  {
   "cell_type": "code",
   "execution_count": 5,
   "metadata": {},
   "outputs": [
    {
     "name": "stdout",
     "output_type": "stream",
     "text": [
      "x_train shape: (60000, 28, 28, 1)\n",
      "60000 train samples\n",
      "10000 test samples\n"
     ]
    }
   ],
   "source": [
    "x_train = x_train.astype('float32')\n",
    "x_test = x_test.astype('float32')\n",
    "x_train /= 255\n",
    "x_test /= 255\n",
    "print('x_train shape:', x_train.shape)\n",
    "print(x_train.shape[0], 'train samples')\n",
    "print(x_test.shape[0], 'test samples')"
   ]
  },
  {
   "cell_type": "code",
   "execution_count": 6,
   "metadata": {
    "collapsed": true
   },
   "outputs": [],
   "source": [
    "y_train = keras.utils.to_categorical(y_train, num_classes)\n",
    "y_test = keras.utils.to_categorical(y_test, num_classes)"
   ]
  },
  {
   "cell_type": "code",
   "execution_count": 7,
   "metadata": {
    "collapsed": true
   },
   "outputs": [],
   "source": [
    "model = Sequential()\n",
    "model.add(Conv2D(32, kernel_size=(3, 3),\n",
    "                 activation='relu',\n",
    "                 input_shape=input_shape))\n",
    "model.add(Conv2D(64, (3, 3), activation='relu'))\n",
    "model.add(MaxPooling2D(pool_size=(2, 2)))\n",
    "model.add(Dropout(0.25))\n",
    "model.add(Flatten())\n",
    "model.add(Dense(128, activation='relu'))\n",
    "model.add(Dropout(0.5))\n",
    "model.add(Dense(num_classes, activation='softmax'))"
   ]
  },
  {
   "cell_type": "code",
   "execution_count": 8,
   "metadata": {
    "collapsed": true
   },
   "outputs": [],
   "source": [
    "model.compile(loss=keras.losses.categorical_crossentropy,\n",
    "              optimizer=keras.optimizers.Adadelta(),\n",
    "              metrics=['accuracy'])"
   ]
  },
  {
   "cell_type": "code",
   "execution_count": 9,
   "metadata": {},
   "outputs": [
    {
     "name": "stdout",
     "output_type": "stream",
     "text": [
      "Train on 60000 samples, validate on 10000 samples\n",
      "Epoch 1/4\n",
      "60000/60000 [==============================] - 206s - loss: 0.3378 - acc: 0.8972 - val_loss: 0.0818 - val_acc: 0.9747\n",
      "Epoch 2/4\n",
      "60000/60000 [==============================] - 205s - loss: 0.1131 - acc: 0.9674 - val_loss: 0.0527 - val_acc: 0.9823\n",
      "Epoch 3/4\n",
      "60000/60000 [==============================] - 206s - loss: 0.0862 - acc: 0.9749 - val_loss: 0.0429 - val_acc: 0.9858\n",
      "Epoch 4/4\n",
      "60000/60000 [==============================] - 206s - loss: 0.0720 - acc: 0.9787 - val_loss: 0.0389 - val_acc: 0.9867\n"
     ]
    },
    {
     "data": {
      "text/plain": [
       "<keras.callbacks.History at 0x123cb24e0>"
      ]
     },
     "execution_count": 9,
     "metadata": {},
     "output_type": "execute_result"
    }
   ],
   "source": [
    "model.fit(x_train, y_train,\n",
    "          batch_size=batch_size,\n",
    "          epochs=epochs,\n",
    "          verbose=1,\n",
    "          validation_data=(x_test, y_test))"
   ]
  },
  {
   "cell_type": "code",
   "execution_count": 10,
   "metadata": {},
   "outputs": [
    {
     "name": "stdout",
     "output_type": "stream",
     "text": [
      "Test loss: 0.0389115568637\n",
      "Test accuracy: 0.9867\n"
     ]
    }
   ],
   "source": [
    "score = model.evaluate(x_test, y_test, verbose=0)\n",
    "print('Test loss:', score[0])\n",
    "print('Test accuracy:', score[1])"
   ]
  },
  {
   "cell_type": "code",
   "execution_count": 11,
   "metadata": {},
   "outputs": [
    {
     "data": {
      "image/svg+xml": [
       "<svg height=\"629pt\" viewBox=\"0.00 0.00 219.61 629.00\" width=\"220pt\" xmlns=\"http://www.w3.org/2000/svg\" xmlns:xlink=\"http://www.w3.org/1999/xlink\">\n",
       "<g class=\"graph\" id=\"graph0\" transform=\"scale(1 1) rotate(0) translate(4 625)\">\n",
       "<title>G</title>\n",
       "<polygon fill=\"#ffffff\" points=\"-4,4 -4,-625 215.6104,-625 215.6104,4 -4,4\" stroke=\"transparent\"/>\n",
       "<!-- 4895575512 -->\n",
       "<g class=\"node\" id=\"node1\">\n",
       "<title>4895575512</title>\n",
       "<polygon fill=\"none\" points=\"17.5171,-584.5 17.5171,-620.5 194.0933,-620.5 194.0933,-584.5 17.5171,-584.5\" stroke=\"#000000\"/>\n",
       "<text fill=\"#000000\" font-family=\"Times,serif\" font-size=\"14.00\" text-anchor=\"middle\" x=\"105.8052\" y=\"-598.3\">conv2d_1_input: InputLayer</text>\n",
       "</g>\n",
       "<!-- 4895575344 -->\n",
       "<g class=\"node\" id=\"node2\">\n",
       "<title>4895575344</title>\n",
       "<polygon fill=\"none\" points=\"42.7793,-511.5 42.7793,-547.5 168.8311,-547.5 168.8311,-511.5 42.7793,-511.5\" stroke=\"#000000\"/>\n",
       "<text fill=\"#000000\" font-family=\"Times,serif\" font-size=\"14.00\" text-anchor=\"middle\" x=\"105.8052\" y=\"-525.3\">conv2d_1: Conv2D</text>\n",
       "</g>\n",
       "<!-- 4895575512&#45;&gt;4895575344 -->\n",
       "<g class=\"edge\" id=\"edge1\">\n",
       "<title>4895575512-&gt;4895575344</title>\n",
       "<path d=\"M105.8052,-584.4551C105.8052,-576.3828 105.8052,-566.6764 105.8052,-557.6817\" fill=\"none\" stroke=\"#000000\"/>\n",
       "<polygon fill=\"#000000\" points=\"109.3053,-557.5903 105.8052,-547.5904 102.3053,-557.5904 109.3053,-557.5903\" stroke=\"#000000\"/>\n",
       "</g>\n",
       "<!-- 4895575456 -->\n",
       "<g class=\"node\" id=\"node3\">\n",
       "<title>4895575456</title>\n",
       "<polygon fill=\"none\" points=\"42.7793,-438.5 42.7793,-474.5 168.8311,-474.5 168.8311,-438.5 42.7793,-438.5\" stroke=\"#000000\"/>\n",
       "<text fill=\"#000000\" font-family=\"Times,serif\" font-size=\"14.00\" text-anchor=\"middle\" x=\"105.8052\" y=\"-452.3\">conv2d_2: Conv2D</text>\n",
       "</g>\n",
       "<!-- 4895575344&#45;&gt;4895575456 -->\n",
       "<g class=\"edge\" id=\"edge2\">\n",
       "<title>4895575344-&gt;4895575456</title>\n",
       "<path d=\"M105.8052,-511.4551C105.8052,-503.3828 105.8052,-493.6764 105.8052,-484.6817\" fill=\"none\" stroke=\"#000000\"/>\n",
       "<polygon fill=\"#000000\" points=\"109.3053,-484.5903 105.8052,-474.5904 102.3053,-484.5904 109.3053,-484.5903\" stroke=\"#000000\"/>\n",
       "</g>\n",
       "<!-- 4895763032 -->\n",
       "<g class=\"node\" id=\"node4\">\n",
       "<title>4895763032</title>\n",
       "<polygon fill=\"none\" points=\"0,-365.5 0,-401.5 211.6104,-401.5 211.6104,-365.5 0,-365.5\" stroke=\"#000000\"/>\n",
       "<text fill=\"#000000\" font-family=\"Times,serif\" font-size=\"14.00\" text-anchor=\"middle\" x=\"105.8052\" y=\"-379.3\">max_pooling2d_1: MaxPooling2D</text>\n",
       "</g>\n",
       "<!-- 4895575456&#45;&gt;4895763032 -->\n",
       "<g class=\"edge\" id=\"edge3\">\n",
       "<title>4895575456-&gt;4895763032</title>\n",
       "<path d=\"M105.8052,-438.4551C105.8052,-430.3828 105.8052,-420.6764 105.8052,-411.6817\" fill=\"none\" stroke=\"#000000\"/>\n",
       "<polygon fill=\"#000000\" points=\"109.3053,-411.5903 105.8052,-401.5904 102.3053,-411.5904 109.3053,-411.5903\" stroke=\"#000000\"/>\n",
       "</g>\n",
       "<!-- 4895576016 -->\n",
       "<g class=\"node\" id=\"node5\">\n",
       "<title>4895576016</title>\n",
       "<polygon fill=\"none\" points=\"42.0034,-292.5 42.0034,-328.5 169.6069,-328.5 169.6069,-292.5 42.0034,-292.5\" stroke=\"#000000\"/>\n",
       "<text fill=\"#000000\" font-family=\"Times,serif\" font-size=\"14.00\" text-anchor=\"middle\" x=\"105.8052\" y=\"-306.3\">dropout_1: Dropout</text>\n",
       "</g>\n",
       "<!-- 4895763032&#45;&gt;4895576016 -->\n",
       "<g class=\"edge\" id=\"edge4\">\n",
       "<title>4895763032-&gt;4895576016</title>\n",
       "<path d=\"M105.8052,-365.4551C105.8052,-357.3828 105.8052,-347.6764 105.8052,-338.6817\" fill=\"none\" stroke=\"#000000\"/>\n",
       "<polygon fill=\"#000000\" points=\"109.3053,-338.5903 105.8052,-328.5904 102.3053,-338.5904 109.3053,-338.5903\" stroke=\"#000000\"/>\n",
       "</g>\n",
       "<!-- 4944212264 -->\n",
       "<g class=\"node\" id=\"node6\">\n",
       "<title>4944212264</title>\n",
       "<polygon fill=\"none\" points=\"50.1724,-219.5 50.1724,-255.5 161.438,-255.5 161.438,-219.5 50.1724,-219.5\" stroke=\"#000000\"/>\n",
       "<text fill=\"#000000\" font-family=\"Times,serif\" font-size=\"14.00\" text-anchor=\"middle\" x=\"105.8052\" y=\"-233.3\">flatten_1: Flatten</text>\n",
       "</g>\n",
       "<!-- 4895576016&#45;&gt;4944212264 -->\n",
       "<g class=\"edge\" id=\"edge5\">\n",
       "<title>4895576016-&gt;4944212264</title>\n",
       "<path d=\"M105.8052,-292.4551C105.8052,-284.3828 105.8052,-274.6764 105.8052,-265.6817\" fill=\"none\" stroke=\"#000000\"/>\n",
       "<polygon fill=\"#000000\" points=\"109.3053,-265.5903 105.8052,-255.5904 102.3053,-265.5904 109.3053,-265.5903\" stroke=\"#000000\"/>\n",
       "</g>\n",
       "<!-- 4944213552 -->\n",
       "<g class=\"node\" id=\"node7\">\n",
       "<title>4944213552</title>\n",
       "<polygon fill=\"none\" points=\"53.6792,-146.5 53.6792,-182.5 157.9312,-182.5 157.9312,-146.5 53.6792,-146.5\" stroke=\"#000000\"/>\n",
       "<text fill=\"#000000\" font-family=\"Times,serif\" font-size=\"14.00\" text-anchor=\"middle\" x=\"105.8052\" y=\"-160.3\">dense_1: Dense</text>\n",
       "</g>\n",
       "<!-- 4944212264&#45;&gt;4944213552 -->\n",
       "<g class=\"edge\" id=\"edge6\">\n",
       "<title>4944212264-&gt;4944213552</title>\n",
       "<path d=\"M105.8052,-219.4551C105.8052,-211.3828 105.8052,-201.6764 105.8052,-192.6817\" fill=\"none\" stroke=\"#000000\"/>\n",
       "<polygon fill=\"#000000\" points=\"109.3053,-192.5903 105.8052,-182.5904 102.3053,-192.5904 109.3053,-192.5903\" stroke=\"#000000\"/>\n",
       "</g>\n",
       "<!-- 4944304504 -->\n",
       "<g class=\"node\" id=\"node8\">\n",
       "<title>4944304504</title>\n",
       "<polygon fill=\"none\" points=\"42.0034,-73.5 42.0034,-109.5 169.6069,-109.5 169.6069,-73.5 42.0034,-73.5\" stroke=\"#000000\"/>\n",
       "<text fill=\"#000000\" font-family=\"Times,serif\" font-size=\"14.00\" text-anchor=\"middle\" x=\"105.8052\" y=\"-87.3\">dropout_2: Dropout</text>\n",
       "</g>\n",
       "<!-- 4944213552&#45;&gt;4944304504 -->\n",
       "<g class=\"edge\" id=\"edge7\">\n",
       "<title>4944213552-&gt;4944304504</title>\n",
       "<path d=\"M105.8052,-146.4551C105.8052,-138.3828 105.8052,-128.6764 105.8052,-119.6817\" fill=\"none\" stroke=\"#000000\"/>\n",
       "<polygon fill=\"#000000\" points=\"109.3053,-119.5903 105.8052,-109.5904 102.3053,-119.5904 109.3053,-119.5903\" stroke=\"#000000\"/>\n",
       "</g>\n",
       "<!-- 4644285744 -->\n",
       "<g class=\"node\" id=\"node9\">\n",
       "<title>4644285744</title>\n",
       "<polygon fill=\"none\" points=\"53.6792,-.5 53.6792,-36.5 157.9312,-36.5 157.9312,-.5 53.6792,-.5\" stroke=\"#000000\"/>\n",
       "<text fill=\"#000000\" font-family=\"Times,serif\" font-size=\"14.00\" text-anchor=\"middle\" x=\"105.8052\" y=\"-14.3\">dense_2: Dense</text>\n",
       "</g>\n",
       "<!-- 4944304504&#45;&gt;4644285744 -->\n",
       "<g class=\"edge\" id=\"edge8\">\n",
       "<title>4944304504-&gt;4644285744</title>\n",
       "<path d=\"M105.8052,-73.4551C105.8052,-65.3828 105.8052,-55.6764 105.8052,-46.6817\" fill=\"none\" stroke=\"#000000\"/>\n",
       "<polygon fill=\"#000000\" points=\"109.3053,-46.5903 105.8052,-36.5904 102.3053,-46.5904 109.3053,-46.5903\" stroke=\"#000000\"/>\n",
       "</g>\n",
       "</g>\n",
       "</svg>"
      ],
      "text/plain": [
       "<IPython.core.display.SVG object>"
      ]
     },
     "execution_count": 11,
     "metadata": {},
     "output_type": "execute_result"
    }
   ],
   "source": [
    "from IPython.display import SVG\n",
    "from keras.utils.vis_utils import model_to_dot\n",
    "\n",
    "SVG(model_to_dot(model).create(prog='dot', format='svg'))"
   ]
  },
  {
   "cell_type": "code",
   "execution_count": null,
   "metadata": {
    "collapsed": true
   },
   "outputs": [],
   "source": []
  }
 ],
 "metadata": {
  "kernelspec": {
   "display_name": "Python 3",
   "language": "python",
   "name": "python3"
  },
  "language_info": {
   "codemirror_mode": {
    "name": "ipython",
    "version": 3
   },
   "file_extension": ".py",
   "mimetype": "text/x-python",
   "name": "python",
   "nbconvert_exporter": "python",
   "pygments_lexer": "ipython3",
   "version": "3.6.1"
  }
 },
 "nbformat": 4,
 "nbformat_minor": 2
}
